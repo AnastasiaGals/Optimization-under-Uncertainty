{
 "cells": [
  {
   "cell_type": "markdown",
   "metadata": {},
   "source": [
    "# Investment Planning for Electricity Generation"
   ]
  },
  {
   "cell_type": "markdown",
   "metadata": {},
   "source": [
    "*Daniel Cortild, Anastasia Bouwsma, Esteban Castillo Mondragón*"
   ]
  },
  {
   "cell_type": "markdown",
   "metadata": {},
   "source": [
    "## 1"
   ]
  },
  {
   "cell_type": "code",
   "execution_count": 1,
   "metadata": {},
   "outputs": [
    {
     "name": "stdout",
     "output_type": "stream",
     "text": [
      "['CLARABEL', 'ECOS', 'ECOS_BB', 'GUROBI', 'OSQP', 'SCIPY', 'SCS']\n"
     ]
    }
   ],
   "source": [
    "from scipy.optimize import linprog\n",
    "import numpy as np\n",
    "import pandas as pd\n",
    "import cvxpy as cp\n",
    "import time\n",
    "import gurobipy\n",
    "\n",
    "print(cp.installed_solvers())\n",
    "def print_solution(problem,x):\n",
    "    print(f\"Objective value: {problem.value}\")\n",
    "    print(f\"Capacity of each technology: {x.value[0:n]}\")\n",
    "    precost=sum([c[i]*x.value[i] for i in range(n)])\n",
    "    prodcost=sum([c[i]*x.value[i] for i in np.arange(n,len(x.value))])\n",
    "    print(f\"Investment costs for phase 1: {precost}\")\n",
    "    print(f\"Production costs for phase 2: {prodcost}\")\n",
    "n=4\n",
    "k=3    "
   ]
  },
  {
   "cell_type": "markdown",
   "metadata": {},
   "source": [
    "### Expected Value Problem"
   ]
  },
  {
   "cell_type": "code",
   "execution_count": 2,
   "metadata": {},
   "outputs": [
    {
     "name": "stdout",
     "output_type": "stream",
     "text": [
      "Set parameter Username\n",
      "Academic license - for non-commercial use only - expires 2025-10-03\n",
      "Objective value: 394.6666666666667\n",
      "Capacity of each technology: [2.83333333 3.         2.16666667 6.        ]\n",
      "Investment costs for phase 1: 120.0\n",
      "Production costs for phase 2: 274.6666666666667\n"
     ]
    }
   ],
   "source": [
    "\n",
    "c = [10.,7.,16.,6.]  #costs for instalation\n",
    "c=c \n",
    "#costs\n",
    "c= c+[v*i for v in [10,6,1]   for i in [4,4.5,3.2,5.5]]\n",
    "\n",
    "#phase 1 constraints\n",
    "#energy requirement constraign\n",
    "Aub = [[-1]*n+[0]*(len(c)-n)]\n",
    "bub=[-7-4-3]\n",
    "#budget\n",
    "Aub=Aub+[c[0:n]+[0]*(len(c)-n)]\n",
    "bub.append(120)\n",
    "\n",
    "#phase 2 constraints\n",
    "#capacity\n",
    "Aub = Aub +[[0]*i+[-1]+[0]*(k-i)+(([0]*i+[1]+[0]*(k-i))*k) for i in range(n)]\n",
    "bub = bub+ [0]*n\n",
    "\n",
    "#power requirement\n",
    "Aub = Aub + [[0]*(n+n*i)+[-1]*n+[0]*(len(c)-8-n*i) for i in range(k)]\n",
    "bub = bub + [-5,-3,-2]\n",
    "\n",
    "x=cp.Variable(len(c))\n",
    "Aub = np.array(Aub)\n",
    "c= np.array(c)\n",
    "bub = np.array(bub)\n",
    "restricts=[Aub @ x <= bub]+ [x >= 0]\n",
    "problem = cp.Problem(cp.Minimize(c.T @x),restricts )\n",
    "\n",
    "res= problem.solve(solver = cp.GUROBI)\n",
    "avres=list(x.value[0:n])\n",
    "precost=sum([c[i]*x.value[i] for i in range(n)])\n",
    "prodcost=sum([c[i]*x.value[i] for i in np.arange(n,len(x.value))])\n",
    "print_solution(problem,x)"
   ]
  },
  {
   "cell_type": "markdown",
   "metadata": {},
   "source": [
    "### Expected Value Solution"
   ]
  },
  {
   "cell_type": "code",
   "execution_count": 3,
   "metadata": {},
   "outputs": [
    {
     "name": "stdout",
     "output_type": "stream",
     "text": [
      "399.5926666666666\n"
     ]
    }
   ],
   "source": [
    "#function to test the average sollution in practice\n",
    "#c = [10.,7.,16.,6.]  #costs for instalation\n",
    "#costs\n",
    "demands = [[z,j,i] for i in [-1,-2,-3] for j in [-2,-3,-4] for z in  [-3,-5,-7] ]\n",
    "probs = [z*j*i for i in [0.3,0.4,0.3] for j in [0.3,0.4,0.3] for z in [0.3,0.4,0.3]]\n",
    "\n",
    "c= [v*i*p for p in probs for v in [10,6,1]   for i in [4,4.5,3.2,5.5] ]#add cost of usage\n",
    "\n",
    "#phase 1 constraints\n",
    "#energy requirement constraign\n",
    "#Aub = [[-1]*4+[0]*(len(c)-4)]\n",
    "#bub=[-7-4-3]\n",
    "#budget\n",
    "#Aub=Aub+[c[0:4]+[0]*(len(c)-4)]\n",
    "#bub.append(120)\n",
    "\n",
    "#phase 2 constraints\n",
    "#capacity\n",
    "Aub =[[0]*(12*j)+(([0]*i+[1]+[0]*(3-i))*3)+[0]*(len(c)-12-12*j ) for j in range(len(probs)) for i in range(n) ]\n",
    "bub =  avres*len(probs)\n",
    "\n",
    "#power requirement\n",
    "Aub = Aub + [[0]*(4*i+12*j)+[-1]*4+[0]*(len(c)-4-4*i-12*j) for j in range(len(probs)) for i in range(k)]\n",
    "\n",
    "bub = bub +[i  for t in range(len(demands)) for i in demands[t] ] \n",
    "\n",
    "x=cp.Variable(len(c))\n",
    "Aub = np.array(Aub)\n",
    "c= np.array(c)\n",
    "bub = np.array(bub)\n",
    "restricts=[Aub @ x <= bub]+ [x >= 0]\n",
    "problem = cp.Problem(cp.Minimize(c.T @x),restricts )\n",
    "\n",
    "res3= problem.solve(solver = cp.GUROBI)\n",
    "print(res3+precost)"
   ]
  },
  {
   "cell_type": "markdown",
   "metadata": {},
   "source": [
    "### Regular Problem"
   ]
  },
  {
   "cell_type": "code",
   "execution_count": 6,
   "metadata": {},
   "outputs": [
    {
     "name": "stdout",
     "output_type": "stream",
     "text": [
      "Objective value: 397.75133333333326\n",
      "Capacity of each technology: [3.16666667 5.         1.83333333 4.        ]\n",
      "Investment costs for phase 1: 120.0\n",
      "Production costs for phase 2: 277.7513333333333\n"
     ]
    }
   ],
   "source": [
    "c = [10.,7.,16.,6.]  #costs for instalation\n",
    "#costs\n",
    "demands = [[z,j,i] for i in [-1,-2,-3] for j in [-2,-3,-4] for z in  [-3,-5,-7] ]\n",
    "probs = [z*j*i for i in [0.3,0.4,0.3] for j in [0.3,0.4,0.3] for z in [0.3,0.4,0.3]]\n",
    "\n",
    "c= c+[v*i*p for p in probs for v in [10,6,1]   for i in [4,4.5,3.2,5.5] ]#add cost of usage\n",
    "\n",
    "#phase 1 constraints\n",
    "#energy requirement constraign\n",
    "Aub = [[-1]*4+[0]*(len(c)-4)]\n",
    "bub=[-7-4-3]\n",
    "#budget\n",
    "Aub=Aub+[c[0:4]+[0]*(len(c)-4)]\n",
    "bub.append(120)\n",
    "\n",
    "#phase 2 constraints\n",
    "#capacity\n",
    "Aub = Aub +[[0]*(i )+[-1]+[0]*(3-i+12*k)+(([0]*i+[1]+[0]*(3-i))*3)+[0]*(len(c)-16-12*k ) for k in range(len(probs)) for i in range(4) ]\n",
    "bub = bub+ [0]*4*len(probs)\n",
    "\n",
    "#power requirement\n",
    "Aub = Aub + [[0]*(4+4*i+12*k)+[-1]*4+[0]*(len(c)-8-4*i-12*k) for k in range(len(probs)) for i in range(3)]\n",
    "\n",
    "bub = bub +[i  for t in range(len(demands)) for i in demands[t] ] \n",
    "\n",
    "\n",
    "x=cp.Variable(len(c))\n",
    "Aub = np.array(Aub)\n",
    "c= np.array(c)\n",
    "bub = np.array(bub)\n",
    "restricts=[Aub @ x <= bub]+ [x >= 0]\n",
    "problem = cp.Problem(cp.Minimize(c.T @x),restricts )\n",
    "\n",
    "res2= problem.solve(solver = cp.GUROBI)\n",
    "print_solution(problem,x)"
   ]
  },
  {
   "cell_type": "markdown",
   "metadata": {},
   "source": [
    "### Perfect Information"
   ]
  },
  {
   "cell_type": "code",
   "execution_count": 7,
   "metadata": {},
   "outputs": [
    {
     "name": "stdout",
     "output_type": "stream",
     "text": [
      "Total costs: 394.9666666666667\n"
     ]
    }
   ],
   "source": [
    "demands = [[z,j,i] for i in [-1,-2,-3] for j in [-2,-3,-4] for z in  [-3,-5,-7] ]\n",
    "probs = [z*j*i for i in [0.3,0.4,0.3] for j in [0.3,0.4,0.3] for z in [0.3,0.4,0.3]]\n",
    "c = [10.,7.,16.,6.]  #costs for instalation\n",
    "#costs\n",
    "c= c+[v*i for v in [10,6,1]   for i in [4,4.5,3.2,5.5]]\n",
    "\n",
    "#phase 1 constraints\n",
    "#energy requirement constraign\n",
    "Aub = [[-1]*4+[0]*(len(c)-4)]\n",
    "bub=[-7-4-3]\n",
    "#budget\n",
    "Aub=Aub+[c[0:4]+[0]*(len(c)-4)]\n",
    "bub.append(120)\n",
    "\n",
    "#phase 2 constraints\n",
    "#capacity\n",
    "Aub = Aub +[[0]*i+[-1]+[0]*(3-i)+(([0]*i+[1]+[0]*(3-i))*3) for i in range(n)]\n",
    "bub = bub+ [0]*n\n",
    "\n",
    "#power requirement\n",
    "Aub = Aub + [[0]*(4+4*i)+[-1]*4+[0]*(len(c)-8-4*i) for i in range(k)]\n",
    "\n",
    "costs = []\n",
    "for a in range(len(demands)):\n",
    "    #costs = costs+[linprog(c=c, A_ub = Aub, b_ub = bub+(demands[a])).fun*probs[a]]\n",
    "    #print(sum(costs))  \n",
    "    x=cp.Variable(len(c))\n",
    "    Aub = np.array(Aub)\n",
    "    c= np.array(c)\n",
    "    b_ub_temp = np.array(bub+demands[a])\n",
    "    restricts=[Aub @ x <= b_ub_temp]+ [x >= 0]\n",
    "    problem = cp.Problem(cp.Minimize(c.T @x),restricts )\n",
    "\n",
    "    costs=costs+[problem.solve(solver = cp.GUROBI)*probs[a]]\n",
    "print(f\"Total costs: {sum(costs)}\")"
   ]
  },
  {
   "cell_type": "markdown",
   "metadata": {},
   "source": []
  },
  {
   "cell_type": "code",
   "execution_count": null,
   "metadata": {},
   "outputs": [],
   "source": []
  }
 ],
 "metadata": {
  "kernelspec": {
   "display_name": "venv",
   "language": "python",
   "name": "python3"
  },
  "language_info": {
   "codemirror_mode": {
    "name": "ipython",
    "version": 3
   },
   "file_extension": ".py",
   "mimetype": "text/x-python",
   "name": "python",
   "nbconvert_exporter": "python",
   "pygments_lexer": "ipython3",
   "version": "3.12.3"
  }
 },
 "nbformat": 4,
 "nbformat_minor": 2
}
