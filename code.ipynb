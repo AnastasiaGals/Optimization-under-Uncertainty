{
 "cells": [
  {
   "cell_type": "markdown",
   "metadata": {},
   "source": [
    "# Investment Planning for Electricity Generation"
   ]
  },
  {
   "cell_type": "markdown",
   "metadata": {},
   "source": [
    "*Daniel Cortild, Anastasia Bouwsma, Esteban Castillo Mondragón*"
   ]
  },
  {
   "cell_type": "markdown",
   "metadata": {},
   "source": [
    "## Part 1"
   ]
  },
  {
   "cell_type": "code",
   "execution_count": 4,
   "metadata": {},
   "outputs": [
    {
     "name": "stdout",
     "output_type": "stream",
     "text": [
      "['CLARABEL', 'ECOS', 'ECOS_BB', 'GUROBI', 'OSQP', 'SCIPY', 'SCS']\n"
     ]
    }
   ],
   "source": [
    "from scipy.optimize import linprog\n",
    "import numpy as np\n",
    "import pandas as pd\n",
    "import cvxpy as cp\n",
    "import time\n",
    "import gurobipy\n",
    "import tqdm\n",
    "\n",
    "print(cp.installed_solvers())\n",
    "def print_solution(problem,x):\n",
    "    print(f\"Objective value: {problem.value}\")\n",
    "    print(f\"Capacity of each technology: {x.value[0:n]}\")\n",
    "    precost=sum([c[i]*x.value[i] for i in range(n)])\n",
    "    prodcost=sum([c[i]*x.value[i] for i in np.arange(n,len(x.value))])\n",
    "    print(f\"Investment costs for phase 1: {precost}\")\n",
    "    print(f\"Production costs for phase 2: {prodcost}\")\n",
    "n=4\n",
    "k=3    "
   ]
  },
  {
   "cell_type": "markdown",
   "metadata": {},
   "source": [
    "### Expected Value Problem"
   ]
  },
  {
   "cell_type": "code",
   "execution_count": 2,
   "metadata": {},
   "outputs": [
    {
     "name": "stdout",
     "output_type": "stream",
     "text": [
      "Set parameter Username\n",
      "Academic license - for non-commercial use only - expires 2025-10-03\n",
      "Objective value: 394.6666666666667\n",
      "Capacity of each technology: [2.83333333 3.         2.16666667 6.        ]\n",
      "Investment costs for phase 1: 120.0\n",
      "Production costs for phase 2: 274.6666666666667\n"
     ]
    }
   ],
   "source": [
    "\n",
    "c = [10.,7.,16.,6.]  #costs for instalation\n",
    "c=c \n",
    "#costs\n",
    "c= c+[v*i for v in [10,6,1]   for i in [4,4.5,3.2,5.5]]\n",
    "\n",
    "#phase 1 constraints\n",
    "#energy requirement constraign\n",
    "Aub = [[-1]*n+[0]*(len(c)-n)]\n",
    "bub=[-7-4-3]\n",
    "#budget\n",
    "Aub=Aub+[c[0:n]+[0]*(len(c)-n)]\n",
    "bub.append(120)\n",
    "\n",
    "#phase 2 constraints\n",
    "#capacity\n",
    "Aub = Aub +[[0]*i+[-1]+[0]*(k-i)+(([0]*i+[1]+[0]*(k-i))*k) for i in range(n)]\n",
    "bub = bub+ [0]*n\n",
    "\n",
    "#power requirement\n",
    "Aub = Aub + [[0]*(n+n*i)+[-1]*n+[0]*(len(c)-8-n*i) for i in range(k)]\n",
    "bub = bub + [-5,-3,-2]\n",
    "\n",
    "x=cp.Variable(len(c))\n",
    "Aub = np.array(Aub)\n",
    "c= np.array(c)\n",
    "bub = np.array(bub)\n",
    "restricts=[Aub @ x <= bub]+ [x >= 0]\n",
    "problem = cp.Problem(cp.Minimize(c.T @x),restricts )\n",
    "\n",
    "res= problem.solve(solver = cp.GUROBI)\n",
    "avres=list(x.value[0:n])\n",
    "precost=sum([c[i]*x.value[i] for i in range(n)])\n",
    "prodcost=sum([c[i]*x.value[i] for i in np.arange(n,len(x.value))])\n",
    "print_solution(problem,x)"
   ]
  },
  {
   "cell_type": "markdown",
   "metadata": {},
   "source": [
    "### Expected Value Solution"
   ]
  },
  {
   "cell_type": "code",
   "execution_count": 3,
   "metadata": {},
   "outputs": [
    {
     "name": "stdout",
     "output_type": "stream",
     "text": [
      "399.5926666666666\n"
     ]
    }
   ],
   "source": [
    "#function to test the average sollution in practice\n",
    "#c = [10.,7.,16.,6.]  #costs for instalation\n",
    "#costs\n",
    "demands = [[z,j,i] for i in [-1,-2,-3] for j in [-2,-3,-4] for z in  [-3,-5,-7] ]\n",
    "probs = [z*j*i for i in [0.3,0.4,0.3] for j in [0.3,0.4,0.3] for z in [0.3,0.4,0.3]]\n",
    "\n",
    "c= [v*i*p for p in probs for v in [10,6,1]   for i in [4,4.5,3.2,5.5] ]#add cost of usage\n",
    "\n",
    "#phase 1 constraints\n",
    "#energy requirement constraign\n",
    "#Aub = [[-1]*4+[0]*(len(c)-4)]\n",
    "#bub=[-7-4-3]\n",
    "#budget\n",
    "#Aub=Aub+[c[0:4]+[0]*(len(c)-4)]\n",
    "#bub.append(120)\n",
    "\n",
    "#phase 2 constraints\n",
    "#capacity\n",
    "Aub =[[0]*(12*j)+(([0]*i+[1]+[0]*(3-i))*3)+[0]*(len(c)-12-12*j ) for j in range(len(probs)) for i in range(n) ]\n",
    "bub =  avres*len(probs)\n",
    "\n",
    "#power requirement\n",
    "Aub = Aub + [[0]*(4*i+12*j)+[-1]*4+[0]*(len(c)-4-4*i-12*j) for j in range(len(probs)) for i in range(k)]\n",
    "\n",
    "bub = bub +[i  for t in range(len(demands)) for i in demands[t] ] \n",
    "\n",
    "x=cp.Variable(len(c))\n",
    "Aub = np.array(Aub)\n",
    "c= np.array(c)\n",
    "bub = np.array(bub)\n",
    "restricts=[Aub @ x <= bub]+ [x >= 0]\n",
    "problem = cp.Problem(cp.Minimize(c.T @x),restricts )\n",
    "\n",
    "res3= problem.solve(solver = cp.GUROBI)\n",
    "print(res3+precost)"
   ]
  },
  {
   "cell_type": "markdown",
   "metadata": {},
   "source": [
    "### Regular Problem"
   ]
  },
  {
   "cell_type": "code",
   "execution_count": 6,
   "metadata": {},
   "outputs": [
    {
     "name": "stdout",
     "output_type": "stream",
     "text": [
      "Objective value: 397.75133333333326\n",
      "Capacity of each technology: [3.16666667 5.         1.83333333 4.        ]\n",
      "Investment costs for phase 1: 120.0\n",
      "Production costs for phase 2: 277.7513333333333\n"
     ]
    }
   ],
   "source": [
    "c = [10.,7.,16.,6.]  #costs for instalation\n",
    "#costs\n",
    "demands = [[z,j,i] for i in [-1,-2,-3] for j in [-2,-3,-4] for z in  [-3,-5,-7] ]\n",
    "probs = [z*j*i for i in [0.3,0.4,0.3] for j in [0.3,0.4,0.3] for z in [0.3,0.4,0.3]]\n",
    "\n",
    "c= c+[v*i*p for p in probs for v in [10,6,1]   for i in [4,4.5,3.2,5.5] ]#add cost of usage\n",
    "\n",
    "#phase 1 constraints\n",
    "#energy requirement constraign\n",
    "Aub = [[-1]*4+[0]*(len(c)-4)]\n",
    "bub=[-7-4-3]\n",
    "#budget\n",
    "Aub=Aub+[c[0:4]+[0]*(len(c)-4)]\n",
    "bub.append(120)\n",
    "\n",
    "#phase 2 constraints\n",
    "#capacity\n",
    "Aub = Aub +[[0]*(i )+[-1]+[0]*(3-i+12*k)+(([0]*i+[1]+[0]*(3-i))*3)+[0]*(len(c)-16-12*k ) for k in range(len(probs)) for i in range(4) ]\n",
    "bub = bub+ [0]*4*len(probs)\n",
    "\n",
    "#power requirement\n",
    "Aub = Aub + [[0]*(4+4*i+12*k)+[-1]*4+[0]*(len(c)-8-4*i-12*k) for k in range(len(probs)) for i in range(3)]\n",
    "\n",
    "bub = bub +[i  for t in range(len(demands)) for i in demands[t] ] \n",
    "\n",
    "\n",
    "x=cp.Variable(len(c))\n",
    "Aub = np.array(Aub)\n",
    "c= np.array(c)\n",
    "bub = np.array(bub)\n",
    "restricts=[Aub @ x <= bub]+ [x >= 0]\n",
    "problem = cp.Problem(cp.Minimize(c.T @x),restricts )\n",
    "\n",
    "res2= problem.solve(solver = cp.GUROBI)\n",
    "print_solution(problem,x)"
   ]
  },
  {
   "cell_type": "markdown",
   "metadata": {},
   "source": [
    "### Perfect Information"
   ]
  },
  {
   "cell_type": "code",
   "execution_count": 7,
   "metadata": {},
   "outputs": [
    {
     "name": "stdout",
     "output_type": "stream",
     "text": [
      "Total costs: 394.9666666666667\n"
     ]
    }
   ],
   "source": [
    "demands = [[z,j,i] for i in [-1,-2,-3] for j in [-2,-3,-4] for z in  [-3,-5,-7] ]\n",
    "probs = [z*j*i for i in [0.3,0.4,0.3] for j in [0.3,0.4,0.3] for z in [0.3,0.4,0.3]]\n",
    "c = [10.,7.,16.,6.]  #costs for instalation\n",
    "#costs\n",
    "c= c+[v*i for v in [10,6,1]   for i in [4,4.5,3.2,5.5]]\n",
    "\n",
    "#phase 1 constraints\n",
    "#energy requirement constraign\n",
    "Aub = [[-1]*4+[0]*(len(c)-4)]\n",
    "bub=[-7-4-3]\n",
    "#budget\n",
    "Aub=Aub+[c[0:4]+[0]*(len(c)-4)]\n",
    "bub.append(120)\n",
    "\n",
    "#phase 2 constraints\n",
    "#capacity\n",
    "Aub = Aub +[[0]*i+[-1]+[0]*(3-i)+(([0]*i+[1]+[0]*(3-i))*3) for i in range(n)]\n",
    "bub = bub+ [0]*n\n",
    "\n",
    "#power requirement\n",
    "Aub = Aub + [[0]*(4+4*i)+[-1]*4+[0]*(len(c)-8-4*i) for i in range(k)]\n",
    "\n",
    "costs = []\n",
    "for a in range(len(demands)):\n",
    "    #costs = costs+[linprog(c=c, A_ub = Aub, b_ub = bub+(demands[a])).fun*probs[a]]\n",
    "    #print(sum(costs))  \n",
    "    x=cp.Variable(len(c))\n",
    "    Aub = np.array(Aub)\n",
    "    c= np.array(c)\n",
    "    b_ub_temp = np.array(bub+demands[a])\n",
    "    restricts=[Aub @ x <= b_ub_temp]+ [x >= 0]\n",
    "    problem = cp.Problem(cp.Minimize(c.T @x),restricts )\n",
    "\n",
    "    costs=costs+[problem.solve(solver = cp.GUROBI)*probs[a]]\n",
    "print(f\"Total costs: {sum(costs)}\")"
   ]
  },
  {
   "cell_type": "markdown",
   "metadata": {},
   "source": []
  },
  {
   "cell_type": "markdown",
   "metadata": {},
   "source": [
    "## Part 2"
   ]
  },
  {
   "cell_type": "code",
   "execution_count": 19,
   "metadata": {},
   "outputs": [],
   "source": [
    "def print_solution(problem,x):\n",
    "    print(f\"Objective value: {problem.value}\")\n",
    "    print(f\"Capacity of each technology: {x.value[0:n]}\")\n",
    "    print(f\"Maximum capacity: {x.value[0:n]@[0.9,0.8,0.8,1.]}\")\n",
    "    precost=sum([cset[i]*x.value[i] for i in range(n)])\n",
    "    prodcost=sum([cset[i]*x.value[i] for i in np.arange(n,len(x.value))])\n",
    "    print(f\"Investment costs for phase 1: {precost}\")\n",
    "    print(f\"Production costs for phase 2: {prodcost}\")"
   ]
  },
  {
   "cell_type": "code",
   "execution_count": 20,
   "metadata": {},
   "outputs": [
    {
     "name": "stdout",
     "output_type": "stream",
     "text": [
      "[0, 1, 2, 3]\n",
      "4054\n",
      "-var329770[4049 4050 4051 4052 4053] @ [1. 1. 1. 1. 1.] <= -3.0\n",
      "0.0 <= var329770[3] @ 0.9551521649973017 + -var329770[4042 4047 4052] @ [1. 1. 1.]\n",
      "Set parameter Username\n",
      "Academic license - for non-commercial use only - expires 2025-10-03\n",
      "Set parameter TimeLimit to value 100\n",
      "Objective value: 410.9004117968024\n",
      "Capacity of each technology: [4.80683132 6.36612504 0.         1.4319222 ]\n",
      "Maximum capacity: 10.850970421639207\n",
      "Investment costs for phase 1: 101.22272170883265\n",
      "Production costs for phase 2: 309.6776900879698\n",
      "Time taken in seconds 2.440762519836426\n"
     ]
    }
   ],
   "source": [
    "nreal = 10\n",
    "#we just take the all scenario set for these and then varry the supply limitations\n",
    "demands = [[z,j,i] for i in [-1,-2,-3] for j in [-2,-3,-4] for z in  [-3,-5,-7] ]\n",
    "probs = [z*j*i for i in [0.3,0.4,0.3] for j in [0.3,0.4,0.3] for z in [0.3,0.4,0.3]]\n",
    "cinstall =[10.,7.,16.,6.]   #costs for instalation\n",
    "#costs\n",
    "costsvec= [v*i*p/nreal for p in probs for v in [10,6,1]   for i in [4,4.5,3.2,5.5, 10] ]#add cost of usage\n",
    "cset = cinstall+costsvec*nreal\n",
    "\n",
    "randvals= np.random.uniform(size=nreal*4)\n",
    "mins = [0.6,0.7,0.5,0.9]\n",
    "adds = [0.3,0.1,0.3,0.1] \n",
    "randvals = [randvals[x*4+k]*adds[k]+mins[k]  for x in range(nreal) for k in range(4)]\n",
    "x=cp.Variable(len(cset) )\n",
    "\n",
    "\n",
    "#phase 1 constraints\n",
    "#budget\n",
    "constr = [x>=0]\n",
    "constr = constr+[x[0:4]@cinstall<=120 ]\n",
    "\n",
    "#energy requirement constraint\n",
    "#not a hard constraint anymore but still sensible to have some version of it\n",
    "constr = constr + [x[0:4]@[0.9,0.8,0.8,1.]>= 5]\n",
    "\n",
    "#phase 2 constaints\n",
    "#energy supply\n",
    "base= np.array([0,1,2,3,4]) \n",
    "multidin2 = np.array([1,1,1,1,1])\n",
    "constr = constr + [-x[base+k*5+4]@multidin2<= demands[(k//3)%27][k%3] for k in range(nreal*27*3)]\n",
    "print([0,1,2,3,4][0:4])\n",
    "print(len(cset))\n",
    "print(constr[-1])\n",
    "#capacity\n",
    "base= np.array([4,9,14]) \n",
    "multiding = np.array([1,1,1])\n",
    "constr = constr + [x[k]*randvals[(v//27)*4+k]-x[base+k+v*15]@multiding>=0.  for v in range(27*nreal) for k in range(4)]\n",
    "print(constr[-1])\n",
    "\n",
    "cset = np.array(cset)\n",
    "problem = cp.Problem(cp.Minimize(cset.T @x),constr )\n",
    "t1 = time.time()\n",
    "env = gurobipy.Env()\n",
    "env.setParam('TimeLimit', 100)\n",
    "res= problem.solve(verbose = False, QCPDual = 1, solver  = cp.GUROBI, env=env)\n",
    "\n",
    "    \n",
    "t2 = time.time()\n",
    "print_solution(problem,x)\n",
    "\n",
    "print(f'Time taken in seconds {t2-t1}')"
   ]
  },
  {
   "cell_type": "code",
   "execution_count": 27,
   "metadata": {},
   "outputs": [
    {
     "name": "stdout",
     "output_type": "stream",
     "text": [
      "[0, 1, 2, 3]\n",
      "14179\n",
      "-var519674[14174 14175 14176 14177 14178] @ [1. 1. 1. 1. 1.] <= -3.0\n",
      "0.0 <= var519674[3] @ param519673[139] + -var519674[14167 14172 14177] @ [1. 1. 1.]\n",
      "Set parameter Username\n",
      "Academic license - for non-commercial use only - expires 2025-10-03\n",
      "Set parameter TimeLimit to value 100\n",
      "Objective value: 411.9907071207328\n",
      "Capacity of each technology: [4.88541292 6.34383758 0.         1.54196578]\n",
      "Maximum capacity: 11.01390747000548\n",
      "Investment costs for phase 1: 102.51278693323944\n",
      "Production costs for phase 2: 309.47792018749504\n",
      "Time taken in seconds 196.0101752281189\n"
     ]
    }
   ],
   "source": [
    "nreal = 35\n",
    "#we just take the all scenario set for these and then varry the supply limitations\n",
    "demands = [[z,j,i] for i in [-1,-2,-3] for j in [-2,-3,-4] for z in  [-3,-5,-7] ]\n",
    "probs = [z*j*i for i in [0.3,0.4,0.3] for j in [0.3,0.4,0.3] for z in [0.3,0.4,0.3]]\n",
    "cinstall =[10.,7.,16.,6.]   #costs for instalation\n",
    "#costs\n",
    "costsvec= [v*i*p/nreal for p in probs for v in [10,6,1]   for i in [4,4.5,3.2,5.5, 10] ]#add cost of usage\n",
    "cset = cinstall+costsvec*nreal\n",
    "\n",
    "randvals= np.random.uniform(size=nreal*4)\n",
    "mins = [0.6,0.7,0.5,0.9]\n",
    "adds = [0.3,0.1,0.3,0.1] \n",
    "randvals = cp.Parameter(shape=nreal*4 ,value= [randvals[x*4+k]*adds[k]+mins[k]  for x in range(nreal) for k in range(4)])\n",
    "x=cp.Variable(len(cset) )\n",
    "\n",
    "\n",
    "#phase 1 constraints\n",
    "#budget\n",
    "constr = [x>=0]\n",
    "constr = constr+[x[0:4]@cinstall<=120 ]\n",
    "\n",
    "#energy requirement constraint\n",
    "#not a hard constraint anymore but still sensible to have some version of it\n",
    "constr = constr + [x[0:4]@[0.9,0.8,0.8,1.]>= 5]\n",
    "\n",
    "#phase 2 constaints\n",
    "#energy supply\n",
    "base= np.array([0,1,2,3,4]) \n",
    "multidin2 = np.array([1,1,1,1,1])\n",
    "constr = constr + [-x[base+k*5+4]@multidin2<= demands[(k//3)%27][k%3] for k in range(nreal*27*3)]\n",
    "print([0,1,2,3,4][0:4])\n",
    "print(len(cset))\n",
    "print(constr[-1])\n",
    "#capacity\n",
    "base= np.array([4,9,14]) \n",
    "multiding = np.array([1,1,1])\n",
    "constr = constr + [x[k]*randvals[(v//27)*4+k]-x[base+k+v*15]@multiding>=0.  for v in range(27*nreal) for k in range(4)]\n",
    "print(constr[-1])\n",
    "\n",
    "\n",
    "cset = np.array(cset)\n",
    "problem = cp.Problem(cp.Minimize(cset.T @x),constr )\n",
    "t1 = time.time()\n",
    "env = gurobipy.Env()\n",
    "env.setParam('TimeLimit', 100)\n",
    "res= problem.solve(verbose = False, QCPDual = 1, solver  = cp.GUROBI, env=env)\n",
    "\n",
    "    \n",
    "t2 = time.time()\n",
    "print_solution(problem,x)\n",
    "\n",
    "print(f'Time taken in seconds {t2-t1}')"
   ]
  },
  {
   "cell_type": "code",
   "execution_count": 28,
   "metadata": {},
   "outputs": [
    {
     "name": "stdout",
     "output_type": "stream",
     "text": [
      "Objective value: 409.23142976457655\n",
      "Capacity of each technology: [6.16550724 4.77733604 0.         1.64700082]\n",
      "Maximum capacity: 11.017826172585295\n",
      "Investment costs for phase 1: 104.97842964858714\n",
      "Production costs for phase 2: 304.25300011599177\n"
     ]
    }
   ],
   "source": [
    "rndvl= np.random.uniform(size=nreal*4)\n",
    "mins = [0.6,0.7,0.5,0.9]\n",
    "adds = [0.3,0.1,0.3,0.1] \n",
    "randvals.value = [rndvl[x*4+k]*adds[k]+mins[k]  for x in range(nreal) for k in range(4)]\n",
    "res= problem.solve( QCPDual = 1, solver  = cp.GUROBI, env=env)\n",
    "print_solution(problem,x)"
   ]
  },
  {
   "cell_type": "code",
   "execution_count": 29,
   "metadata": {},
   "outputs": [
    {
     "name": "stdout",
     "output_type": "stream",
     "text": [
      "0\n",
      "10\n",
      "20\n",
      "30\n",
      "40\n",
      "50\n",
      "60\n",
      "70\n",
      "80\n",
      "90\n",
      "100\n",
      "110\n",
      "120\n",
      "130\n",
      "140\n"
     ]
    }
   ],
   "source": [
    "params =[]\n",
    "values = []\n",
    "for o in tqdm(range(150)):\n",
    "    rndvl= np.random.uniform(size=nreal*4)\n",
    "    randvals.value = [rndvl[x*4+k]*adds[k]+mins[k]  for x in range(nreal) for k in range(4)]\n",
    "    res= problem.solve( QCPDual = 1, solver  = cp.GUROBI, env=env)\n",
    "    values = values + [problem.value]\n",
    "    params = params + [x.value[0:4]]"
   ]
  },
  {
   "cell_type": "code",
   "execution_count": 30,
   "metadata": {},
   "outputs": [
    {
     "name": "stdout",
     "output_type": "stream",
     "text": [
      "[np.float64(411.2137508131917), np.float64(412.4562512162623), np.float64(413.480222264791), np.float64(410.8816931798496), np.float64(412.2232459910331), np.float64(409.54706809978313), np.float64(411.92121726997317), np.float64(411.38146965612304), np.float64(410.3426642052176), np.float64(412.5825824109903), np.float64(411.1160425542863), np.float64(411.086470638547), np.float64(411.2645289824784), np.float64(408.838724733659), np.float64(411.8563807408203), np.float64(412.12884923406875), np.float64(409.0987883676052), np.float64(410.21574423891525), np.float64(411.97796928875687), np.float64(410.5764759314317), np.float64(410.1508529424455), np.float64(410.9692670057818), np.float64(410.13464290502895), np.float64(410.8153045336933), np.float64(411.66104393528343), np.float64(410.4373379516697), np.float64(411.3604479761832), np.float64(411.59148048684244), np.float64(407.15652620335834), np.float64(409.74268430624704), np.float64(408.5943383251255), np.float64(411.76712958771645), np.float64(410.26784021095136), np.float64(412.52353780756357), np.float64(410.3457273134723), np.float64(410.1767103209728), np.float64(409.2845517710607), np.float64(412.3973183405975), np.float64(408.6888451820241), np.float64(409.77352964105665), np.float64(413.1407518647575), np.float64(410.12020844920306), np.float64(410.25353869714024), np.float64(410.39433003682205), np.float64(410.51957530144165), np.float64(409.67856508061465), np.float64(412.912027763315), np.float64(409.3678676852989), np.float64(410.9511110599296), np.float64(409.7839362151432), np.float64(410.1603411698883), np.float64(411.6722349405926), np.float64(409.1066467595229), np.float64(410.4910918867246), np.float64(411.276657617236), np.float64(411.1344275970036), np.float64(412.5680041793685), np.float64(409.25154679129525), np.float64(410.25608080826566), np.float64(411.2345215106969), np.float64(411.51898292117664), np.float64(411.74721693017494), np.float64(412.13312779870205), np.float64(410.243113521937), np.float64(409.4455360184589), np.float64(410.14789655361074), np.float64(410.206161795475), np.float64(410.64368744796553), np.float64(412.7247694204051), np.float64(411.756841839979), np.float64(410.33014554979167), np.float64(412.6087098520872), np.float64(411.2491049366132), np.float64(411.09476950170887), np.float64(411.2222588099235), np.float64(412.34265758951403), np.float64(410.97882556857866), np.float64(409.9846441503298), np.float64(411.4446395762815), np.float64(410.54670564526543), np.float64(410.4609410679318), np.float64(410.9227467871514), np.float64(411.39078277465404), np.float64(411.8292000729968), np.float64(411.32762267799944), np.float64(411.51025951243906), np.float64(409.82884611163547), np.float64(412.04772207384553), np.float64(409.8329601160165), np.float64(409.1260710645315), np.float64(407.82295539221616), np.float64(408.90642285565184), np.float64(410.52134923901707), np.float64(411.6395164088905), np.float64(410.12123447250684), np.float64(412.01418910187226), np.float64(410.0951547189148), np.float64(412.2529090743685), np.float64(412.78265144014415), np.float64(408.67099472040394), np.float64(409.9874262545029), np.float64(413.31822194098635), np.float64(411.43456393727166), np.float64(410.4383075994507), np.float64(411.96585231055985), np.float64(410.85213317969425), np.float64(411.37193513656723), np.float64(410.6783910343746), np.float64(408.93009125290365), np.float64(411.5653719043284), np.float64(411.50452616122425), np.float64(411.9981776057802), np.float64(411.567613101916), np.float64(410.7137448424131), np.float64(412.4417095534429), np.float64(410.48943930809804), np.float64(410.6786315226265), np.float64(411.3185470924757), np.float64(410.8266045009415), np.float64(409.78246622924155), np.float64(411.182655907897), np.float64(410.482693966838), np.float64(411.08381652264075), np.float64(410.62017983592887), np.float64(412.4823406384762), np.float64(411.6502603353345), np.float64(411.19606975226304), np.float64(407.72126127025797), np.float64(410.591015298544), np.float64(411.50814720709906), np.float64(408.52250729781656), np.float64(408.9530255170087), np.float64(410.92230280673346), np.float64(410.9714970143511), np.float64(410.35231518698146), np.float64(411.63624110390236), np.float64(412.03171998857215), np.float64(410.7063967963458), np.float64(411.7203345533402), np.float64(412.69875197966087), np.float64(412.5299505743512), np.float64(411.55926961164926), np.float64(409.109736140502), np.float64(411.12718462229816), np.float64(414.35303637586907), np.float64(411.5289580189372), np.float64(410.3857371672639), np.float64(410.776197382294), np.float64(412.5504293553853), np.float64(411.25973006908083)]\n",
      "[array([5.76286706, 5.57310395, 0.        , 1.30237727]), array([5.63775901, 5.50326806, 0.        , 1.72568407]), array([4.1268291 , 7.06163967, 0.        , 1.63240619]), array([5.58019677, 5.52250378, 0.        , 1.52729371]), array([4.33767462, 7.04164805, 0.        , 1.33568167]), array([6.29040098, 4.61985513, 0.        , 1.65934325]), array([4.5993735 , 6.52682546, 0.        , 1.62040699]), array([5.69859368, 5.43551165, 0.        , 1.54511204]), array([6.1535365 , 4.90921738, 0.        , 1.51533952]), array([4.69694888, 6.48928888, 0.        , 1.59123031]), array([4.76953563, 6.29198196, 0.        , 1.68261138]), array([5.66355735, 5.54994099, 0.        , 1.42921075]), array([5.56943699, 5.49549584, 0.        , 1.57221999]), array([6.18958067, 4.73731171, 0.        , 1.55356964]), array([5.27884443, 5.61805445, 0.        , 1.8079696 ]), array([5.67319453, 5.51022652, 0.        , 1.52041984]), array([6.07532851, 4.74793885, 0.        , 1.66724908]), array([5.86345216, 5.10256911, 0.        , 1.59159761]), array([5.55349929, 5.64207631, 0.        , 1.46414161]), array([5.83111906, 5.10582976, 0.        , 1.64834383]), array([6.12696918, 4.90077799, 0.        , 1.58115056]), array([5.8760299 , 5.26732785, 0.        , 1.60991326]), array([5.82056377, 5.19134951, 0.        , 1.56022986]), array([6.0054166 , 5.05131591, 0.        , 1.58656922]), array([5.75638581, 5.39346239, 0.        , 1.50575465]), array([5.84034374, 5.28167587, 0.        , 1.49489095]), array([5.9321636 , 5.18014619, 0.        , 1.60483564]), array([5.8308201 , 5.11043408, 0.        , 1.80118281]), array([6.59131083, 4.20970691, 0.        , 1.49575528]), array([6.24892966, 4.68550515, 0.        , 1.54232729]), array([6.48267355, 4.20673555, 0.        , 1.79996109]), array([4.91130442, 6.21554116, 0.        , 1.50153216]), array([6.20017774, 4.74834746, 0.        , 1.69218029]), array([4.63194983, 6.47430612, 0.        , 1.6986184 ]), array([5.87788613, 5.19077088, 0.        , 1.46633792]), array([5.97721652, 4.98624417, 0.        , 1.55428123]), array([5.98943223, 5.05615246, 0.        , 1.4780101 ]), array([4.21921211, 6.92072534, 0.        , 1.61452637]), array([6.35921565, 4.53276746, 0.        , 1.56063556]), array([6.12151199, 4.8767022 , 0.        , 1.52708896]), array([4.1564874 , 7.09189729, 0.        , 1.66597705]), array([5.69061041, 5.18019479, 0.        , 1.71884007]), array([6.26324441, 4.60152802, 0.        , 1.74446815]), array([5.87353683, 5.05809045, 0.        , 1.67703916]), array([5.68684507, 5.50383105, 0.        , 1.51236468]), array([5.6646887 , 5.47978612, 0.        , 1.43591928]), array([4.57671944, 6.57667185, 0.        , 1.62417857]), array([6.07280255, 4.95079663, 0.        , 1.50931693]), array([5.92522558, 5.19247181, 0.        , 1.5525289 ]), array([6.18945674, 4.78886986, 0.        , 1.56802201]), array([6.05565846, 5.02364023, 0.        , 1.44331163]), array([5.98307611, 4.95824929, 0.        , 1.80227886]), array([6.19253276, 4.78798185, 0.        , 1.49370237]), array([5.99013549, 4.83827426, 0.        , 1.78879829]), array([5.65689615, 5.36436756, 0.        , 1.65853469]), array([5.65457017, 5.42175773, 0.        , 1.65738114]), array([4.44915289, 6.72636111, 0.        , 1.54102919]), array([6.00397609, 4.96953872, 0.        , 1.62882661]), array([5.66996723, 5.49055125, 0.        , 1.46454727]), array([5.98130364, 5.00464883, 0.        , 1.70785348]), array([5.88552084, 4.99373849, 0.        , 1.80708985]), array([4.73346375, 6.48247783, 0.        , 1.45772457]), array([4.43790119, 6.84638998, 0.        , 1.47918176]), array([5.86668001, 4.99897403, 0.        , 1.80183872]), array([6.18089058, 4.8785675 , 0.        , 1.49528344]), array([5.69736739, 5.2553068 , 0.        , 1.65816521]), array([4.65700892, 6.39895461, 0.        , 1.4889121 ]), array([5.94838762, 5.21702598, 0.        , 1.43347414]), array([4.0537533 , 7.1274924 , 0.        , 1.77084954]), array([4.99240295, 6.08233784, 0.        , 1.64409239]), array([5.66460021, 5.48592808, 0.        , 1.44756178]), array([4.45759899, 6.85838112, 0.        , 1.42674124]), array([5.56066978, 5.51759059, 0.        , 1.56034476]), array([5.76796912, 5.2302832 , 0.        , 1.67692672]), array([5.62577518, 5.47867693, 0.        , 1.56867397]), array([4.99131893, 6.19040716, 0.        , 1.55838958]), array([5.88913191, 5.08974607, 0.        , 1.74289918]), array([6.01470717, 5.02989759, 0.        , 1.5554656 ]), array([4.69753493, 6.41631274, 0.        , 1.64066551]), array([6.07640706, 4.79250315, 0.        , 1.77513116]), array([6.03273285, 4.86736189, 0.        , 1.65946689]), array([5.67208848, 5.3684347 , 0.        , 1.64684094]), array([5.76232408, 5.27884462, 0.        , 1.67598756]), array([4.60642145, 6.58261047, 0.        , 1.446176  ]), array([4.86968664, 6.20714831, 0.        , 1.6721431 ]), array([5.56447998, 5.58574324, 0.        , 1.5357602 ]), array([5.99687507, 4.93301745, 0.        , 1.59665274]), array([4.659309  , 6.54899911, 0.        , 1.58386327]), array([6.03259355, 5.04678637, 0.        , 1.54537675]), array([6.41763749, 4.31308668, 0.        , 1.83186504]), array([6.26196448, 4.74349363, 0.        , 1.42357626]), array([6.36139525, 4.56096767, 0.        , 1.53743073]), array([5.62125926, 5.53522062, 0.        , 1.42039134]), array([4.50830795, 6.85558632, 0.        , 1.28225978]), array([6.25485931, 4.67211632, 0.        , 1.62419536]), array([5.5590474 , 5.68195413, 0.        , 1.54769012]), array([6.08694483, 4.8274749 , 0.        , 1.76798104]), array([3.88936089, 7.32500512, 0.        , 1.47486857]), array([5.81550479, 5.45224501, 0.        , 1.58640081]), array([6.57927953, 4.41059221, 0.        , 1.45758366]), array([5.81800406, 5.21914153, 0.        , 1.47298044]), array([3.56081912, 7.70969637, 0.        , 1.60135987]), array([5.86970882, 5.23444868, 0.        , 1.65525184]), array([5.90807307, 5.0917684 , 0.        , 1.56216848]), array([4.35630666, 7.00278092, 0.        , 1.420863  ]), array([5.9653961 , 4.95319071, 0.        , 1.70948202]), array([4.51817027, 6.69624802, 0.        , 1.48997522]), array([5.94666831, 4.96987364, 0.        , 1.66720483]), array([6.31490409, 4.63467524, 0.        , 1.51023266]), array([4.06450914, 7.23197674, 0.        , 1.37890575]), array([5.84415345, 5.16677221, 0.        , 1.81501708]), array([5.83102481, 5.33020101, 0.        , 1.60633378]), array([5.61964936, 5.60624804, 0.        , 1.48085375]), array([5.81434198, 5.4104088 , 0.        , 1.47894436]), array([4.6518134 , 6.4220094 , 0.        , 1.74334515]), array([6.22138819, 4.75161371, 0.        , 1.65308502]), array([6.04100916, 4.91088605, 0.        , 1.68573599]), array([4.67981558, 6.51401704, 0.        , 1.53686786]), array([6.14363666, 4.77912307, 0.        , 1.69099432]), array([6.31240305, 4.58667451, 0.        , 1.69613033]), array([5.25639997, 5.9231395 , 0.        , 1.48858045]), array([5.89342704, 5.21361486, 0.        , 1.5649657 ]), array([5.74250962, 5.32579486, 0.        , 1.59542023]), array([5.98045089, 5.17087228, 0.        , 1.44747674]), array([4.80570235, 6.47759028, 0.        , 1.52331959]), array([6.04538451, 4.99233794, 0.        , 1.76754812]), array([5.92705187, 5.00454029, 0.        , 1.71222442]), array([6.29904687, 4.49756121, 0.        , 1.59751467]), array([6.00101965, 5.12793546, 0.        , 1.4724313 ]), array([4.84042141, 6.28026239, 0.        , 1.60801463]), array([6.1781327 , 4.82089073, 0.        , 1.450303  ]), array([6.0814668 , 4.87380754, 0.        , 1.50468178]), array([5.91641717, 5.05537394, 0.        , 1.75992875]), array([5.59956325, 5.72347689, 0.        , 1.46799766]), array([5.93827773, 5.02042514, 0.        , 1.63586105]), array([4.65658642, 6.35914319, 0.        , 1.79278552]), array([5.75254018, 5.22893682, 0.        , 1.73245833]), array([6.31757085, 4.66184916, 0.        , 1.63005237]), array([4.84872853, 6.3726017 , 0.        , 1.43187864]), array([4.3097916 , 6.86874059, 0.        , 1.67659179]), array([3.96768514, 7.24091486, 0.        , 1.49115048]), array([4.87090484, 6.23132116, 0.        , 1.61489892]), array([6.22447146, 4.61906216, 0.        , 1.70180323]), array([5.63601469, 5.45774223, 0.        , 1.60635896]), array([3.81585913, 7.47519211, 0.        , 1.65274247]), array([5.58536589, 5.55265292, 0.        , 1.5932005 ]), array([5.39646135, 5.69197332, 0.        , 1.51632682]), array([5.87775253, 5.12250793, 0.        , 1.70893049]), array([3.90534471, 7.42184296, 0.        , 1.47324448]), array([5.85123966, 5.29930412, 0.        , 1.50546759])]\n",
      "0.0\n"
     ]
    },
    {
     "data": {
      "image/png": "[encoded data removed]",
      "text/plain": [
       "<Figure size 640x480 with 1 Axes>"
      ]
     },
     "metadata": {},
     "output_type": "display_data"
    }
   ],
   "source": [
    "import seaborn\n",
    "import pandas\n",
    "print(values)\n",
    "print(params)\n",
    "seaborn.histplot(values)\n",
    "paramar = pandas.DataFrame(params,columns=[\"one\",\"two\",\"three\",\"four\"] )\n",
    "print(max(paramar[\"three\"]))"
   ]
  },
  {
   "cell_type": "code",
   "execution_count": 35,
   "metadata": {},
   "outputs": [
    {
     "name": "stdout",
     "output_type": "stream",
     "text": [
      "[0, 1, 2, 3]\n",
      "405\n",
      "-var674323[400 401 402 403 404] @ [1. 1. 1. 1. 1.] <= -3.0\n",
      "0.0 <= param674324[3] @ param674322[3] + -var674323[393 398 403] @ [1. 1. 1.]\n",
      "Set parameter Username\n",
      "Academic license - for non-commercial use only - expires 2025-10-03\n",
      "Set parameter TimeLimit to value 100\n",
      "Objective value: 229.43852939643526\n",
      "Capacity of each technology: [0. 0. 3. 0.]\n",
      "Maximum capacity: 2.4000000000000004\n",
      "Investment costs for phase 1: 2.592\n",
      "Production costs for phase 2: 226.8465293964352\n",
      "Time taken in seconds 0.1533069610595703\n"
     ]
    },
    {
     "name": "stderr",
     "output_type": "stream",
     "text": [
      "/home/esteban/rug/optimization_under_uncertainty/assignment/venv/lib/python3.12/site-packages/cvxpy/reductions/solvers/solving_chain.py:237: UserWarning: You are solving a parameterized problem that is not DPP. Because the problem is not DPP, subsequent solves will not be faster than the first one. For more information, see the documentation on Disciplined Parametrized Programming, at https://www.cvxpy.org/tutorial/dpp/index.html\n",
      "  warnings.warn(DPP_ERROR_MSG)\n"
     ]
    }
   ],
   "source": [
    "cases = 1\n",
    "#we just take the all scenario set for these and then varry the supply limitations\n",
    "demands = [[z,j,i] for i in [-1,-2,-3] for j in [-2,-3,-4] for z in  [-3,-5,-7] ]\n",
    "probs = [z*j*i for i in [0.3,0.4,0.3] for j in [0.3,0.4,0.3] for z in [0.3,0.4,0.3]]\n",
    "cinstall =[10.,7.,16.,6.]   #costs for instalation\n",
    "#costs\n",
    "costsvec= [v*i*p/cases for p in probs for v in [10,6,1]   for i in [4,4.5,3.2,5.5, 10] ]#add cost of usage\n",
    "cset = costsvec*cases\n",
    "\n",
    "rqual= np.random.uniform(size=cases*4)\n",
    "mins = [0.6,0.7,0.5,0.9]\n",
    "adds = [0.3,0.1,0.3,0.1] \n",
    "rqual = cp.Parameter(shape=cases*4 ,value=[rqual[x*4+k]*adds[k]+mins[k]  for x in range(cases) for k in range(4)])\n",
    "\n",
    "#randvals = [randvals[x*4+k]*adds[k]+mins[k]  for x in range(cases) for k in range(4)]\n",
    "x=cp.Variable(len(cset) )\n",
    "capacities= cp.Parameter(shape=4, value=[10]*4)\n",
    "\n",
    "#phase 1 constraints\n",
    "#budget\n",
    "constr = [x>=0]\n",
    "#constr = constr+[x[0:4]@cinstall<=120 ]\n",
    "\n",
    "#energy requirement constraint\n",
    "#not a hard constraint anymore but still sensible to have some version of it\n",
    "#constr = constr + [x[0:4]@[0.9,0.8,0.8,1.]>= 5]\n",
    "\n",
    "#phase 2 constaints\n",
    "#energy supply\n",
    "base= np.array([0,1,2,3,4]) \n",
    "multidin2 = np.array([1,1,1,1,1])\n",
    "constr = constr + [-x[base+k*5]@multidin2<= demands[(k//3)%27][k%3] for k in range(cases*27*3)]\n",
    "print([0,1,2,3,4][0:4])\n",
    "print(len(cset))\n",
    "print(constr[-1])\n",
    "#capacity\n",
    "base= np.array([0,5,10]) \n",
    "multiding = np.array([1,1,1])\n",
    "constr = constr + [capacities[k]*rqual[(v//27)*4+k]-x[base+k+v*15]@multiding>=0.  for v in range(27*cases) for k in range(4)]\n",
    "print(constr[-1])\n",
    "\n",
    "\n",
    "cset = np.array(cset)\n",
    "lilproblem = cp.Problem(cp.Minimize(cset.T @x),constr )\n",
    "t1 = time.time()\n",
    "env = gurobipy.Env()\n",
    "env.setParam('TimeLimit', 100)\n",
    "res= lilproblem.solve(verbose = False, QCPDual = 1, solver  = cp.GUROBI, env=env)\n",
    "\n",
    "    \n",
    "t2 = time.time()\n",
    "print_solution(lilproblem,x)\n",
    "\n",
    "print(f'Time taken in seconds {t2-t1}')"
   ]
  },
  {
   "cell_type": "code",
   "execution_count": null,
   "metadata": {},
   "outputs": [
    {
     "name": "stdout",
     "output_type": "stream",
     "text": [
      "[[np.float64(0.75813147508991), np.float64(0.7906020577741096), np.float64(0.6366482010421265), np.float64(0.9308948500529033)], [np.float64(0.8909385604563372), np.float64(0.7834376357568669), np.float64(0.7959227007011285), np.float64(0.9317730076176893)], [np.float64(0.7553112626524967), np.float64(0.7232845643719937), np.float64(0.7662281451718072), np.float64(0.9668776368980694)], [np.float64(0.7830640085789368), np.float64(0.7607510541266868), np.float64(0.5290019744879997), np.float64(0.958710795456353)], [np.float64(0.8461499978095689), np.float64(0.7848097915723034), np.float64(0.6962961124272418), np.float64(0.9675697516333507)], [np.float64(0.6249459238977003), np.float64(0.7477951811510355), np.float64(0.7065309567610789), np.float64(0.9456431638842218)], [np.float64(0.7311354764229427), np.float64(0.7792214667432936), np.float64(0.6277207366430781), np.float64(0.9640227732134892)], [np.float64(0.7734988901692523), np.float64(0.7398013291900846), np.float64(0.778060879119306), np.float64(0.9080300369463907)], [np.float64(0.7830303052991213), np.float64(0.7088645012202273), np.float64(0.5229299629306982), np.float64(0.9743610182804928)], [np.float64(0.6297162081030792), np.float64(0.759850826231076), np.float64(0.7065853415766805), np.float64(0.9735026566122694)], [np.float64(0.6230660638590427), np.float64(0.7335544533546339), np.float64(0.6581562928596382), np.float64(0.911563188900892)], [np.float64(0.6112808981636298), np.float64(0.7078421757539592), np.float64(0.7126204183376275), np.float64(0.9884129857423918)], [np.float64(0.8984220222021115), np.float64(0.7916464673920923), np.float64(0.6154581714105452), np.float64(0.9560330528171054)], [np.float64(0.8674786142761992), np.float64(0.785567170285083), np.float64(0.5149517554733986), np.float64(0.9440502830105776)], [np.float64(0.7538623764733483), np.float64(0.7480495055343588), np.float64(0.6005181243116031), np.float64(0.9879935962507884)], [np.float64(0.71028849228513), np.float64(0.757339713753029), np.float64(0.6406845521118449), np.float64(0.95818937440085)], [np.float64(0.8546296195112267), np.float64(0.7356692804923042), np.float64(0.5297642461558983), np.float64(0.9586518168820859)], [np.float64(0.6119520318140494), np.float64(0.763692047528965), np.float64(0.7060995262951559), np.float64(0.9835273849727794)], [np.float64(0.6585868175147371), np.float64(0.776901944321411), np.float64(0.5544737208935435), np.float64(0.9397407278683207)], [np.float64(0.6484001257470814), np.float64(0.7859278631913318), np.float64(0.6781134432940059), np.float64(0.9284052596890358)], [np.float64(0.8168995860938617), np.float64(0.7389284084046357), np.float64(0.6001902582853472), np.float64(0.9107722883563831)], [np.float64(0.8189183945065489), np.float64(0.7704658023675057), np.float64(0.751278325261334), np.float64(0.9136099690865173)], [np.float64(0.7605514576912491), np.float64(0.7270712088460634), np.float64(0.5118731032385461), np.float64(0.9349020713017699)], [np.float64(0.7378916433246843), np.float64(0.7163728196509405), np.float64(0.5695589589265078), np.float64(0.9776553193749185)], [np.float64(0.8505310710628138), np.float64(0.7793562655189178), np.float64(0.6516219046855071), np.float64(0.9947058274617206)], [np.float64(0.7008887323897006), np.float64(0.7992070204495975), np.float64(0.5797938554008227), np.float64(0.9776054125793009)], [np.float64(0.7447000058157746), np.float64(0.771538876713582), np.float64(0.7066063065515541), np.float64(0.9517368857138819)], [np.float64(0.6560062969678235), np.float64(0.7638163698595984), np.float64(0.5713282130595342), np.float64(0.9046091751707719)], [np.float64(0.65926494325497), np.float64(0.7198210775209981), np.float64(0.7480028513001664), np.float64(0.9104201740153086)], [np.float64(0.8580936776971151), np.float64(0.7250796641581324), np.float64(0.5659947276059453), np.float64(0.9201751168662683)], [np.float64(0.6911535212684174), np.float64(0.7996570209990808), np.float64(0.7799465857564782), np.float64(0.9641016279939689)], [np.float64(0.7582307325108703), np.float64(0.7501228394570508), np.float64(0.7474303397289278), np.float64(0.913785851619741)], [np.float64(0.6995734460589127), np.float64(0.7016993866452318), np.float64(0.6287784562519273), np.float64(0.9644053134155598)], [np.float64(0.7600853000572196), np.float64(0.726470253672101), np.float64(0.5704286826714955), np.float64(0.9073147339429293)], [np.float64(0.8486752665793609), np.float64(0.7454448867991398), np.float64(0.6558559673445955), np.float64(0.9673475306464511)], [np.float64(0.6018814912836449), np.float64(0.7299301856335981), np.float64(0.5972017367927637), np.float64(0.9376545227876554)], [np.float64(0.8622373785199781), np.float64(0.7021955355071182), np.float64(0.6170559299807745), np.float64(0.91077121880642)], [np.float64(0.6613657470634028), np.float64(0.7268906367209034), np.float64(0.6104376857781054), np.float64(0.9072960132794942)], [np.float64(0.8889556353712218), np.float64(0.7441926143785399), np.float64(0.7590163911915804), np.float64(0.9740623060723218)], [np.float64(0.6417056672600938), np.float64(0.7149278354437116), np.float64(0.6110396569619565), np.float64(0.9319830261035565)], [np.float64(0.8670612539224754), np.float64(0.7081250701426449), np.float64(0.663571031840001), np.float64(0.9721234227345128)], [np.float64(0.6835072403170769), np.float64(0.7443099246114913), np.float64(0.6025301955521128), np.float64(0.9956542550123552)], [np.float64(0.8642019416687301), np.float64(0.7320388050153513), np.float64(0.7088561631224836), np.float64(0.9367291146521786)], [np.float64(0.8782887388134435), np.float64(0.7431656519267661), np.float64(0.6257114523934147), np.float64(0.9137137073749888)], [np.float64(0.8882147563100499), np.float64(0.7309859197025508), np.float64(0.5609252159703272), np.float64(0.9947053412469513)], [np.float64(0.6250325561248959), np.float64(0.7437701100550284), np.float64(0.693664552332753), np.float64(0.9271085980401047)], [np.float64(0.6386928261798455), np.float64(0.7073613211182198), np.float64(0.7167439160317635), np.float64(0.9728612658960835)], [np.float64(0.8972534985559619), np.float64(0.7954600414691211), np.float64(0.5015647663475777), np.float64(0.9904225370720872)], [np.float64(0.8197450191222948), np.float64(0.7409914951943468), np.float64(0.5644810917275562), np.float64(0.9553382734599349)], [np.float64(0.876765463685938), np.float64(0.7092321829217714), np.float64(0.795563995886142), np.float64(0.9407792880268)]]\n",
      "0\n",
      "10\n",
      "20\n",
      "30\n",
      "40\n",
      "50\n",
      "60\n",
      "70\n",
      "80\n",
      "90\n"
     ]
    }
   ],
   "source": [
    "ntests=50\n",
    "rndvl= np.random.uniform(size=cases*4*ntests)\n",
    "rndvl = [[rndvl[x*4+k+t*cases*4]*adds[k]+mins[k]  for x in range(cases) for k in range(4)] for t in range(ntests)]\n",
    "print(rndvl)\n",
    "valuevector = []\n",
    "for Val in tqdm(range(len(params))):\n",
    "    capacities.value = params[Val]\n",
    "    curval =params[Val]@[10.,7.,16.,6.]\n",
    "    for t in rndvl:\n",
    "        rqual.value = t\n",
    "        lilproblem.solve(QCPDual = 1, solver  = cp.GUROBI, env=env )\n",
    "        curval = curval +lilproblem.value/ntests\n",
    "    valuevector = valuevector +[curval]"
   ]
  },
  {
   "cell_type": "code",
   "execution_count": null,
   "metadata": {},
   "outputs": [],
   "source": [
    "seaborn.histplot(valuevector)\n",
    "\n",
    "print(params[ valuevector.index(min(valuevector))])\n",
    "optipars = params[ valuevector.index(min(valuevector))]\n",
    "print(min(valuevector))\n",
    "print(sum( [params[ valuevector.index(min(valuevector))][k]*[10.,7.,16.,6.][k] for k in range(4)]))"
   ]
  },
  {
   "cell_type": "code",
   "execution_count": null,
   "metadata": {},
   "outputs": [],
   "source": [
    "paramar.to_csv(\"BackupStorage-paramtests\")\n",
    "pandas.DataFrame(valuevector).to_csv(\"BackupStorage-results\")\n",
    "pandas.DataFrame(values).to_csv(\"BackupStorage-initialoutcomes\")\n",
    "\n"
   ]
  },
  {
   "cell_type": "code",
   "execution_count": null,
   "metadata": {},
   "outputs": [],
   "source": [
    "import pandas\n",
    "paramar = pandas.read_csv(\"BackupStorage-paramtests\")\n",
    "paramar = paramar[[\"one\", \"two\", \"three\", \"four\"]]\n",
    "params = paramar.values.tolist()\n",
    "valuevector = pandas.read_csv(\"BackupStorage-results\")\n",
    "valuevector = valuevector[\"0\"].to_list()\n",
    "values  =pandas.read_csv(\"BackupStorage-initialoutcomes\")\n",
    "values = values[\"0\"].to_list()\n",
    "t=[0,0,2]"
   ]
  },
  {
   "cell_type": "markdown",
   "metadata": {},
   "source": [
    "### Expected Value Problem"
   ]
  },
  {
   "cell_type": "code",
   "execution_count": null,
   "metadata": {},
   "outputs": [],
   "source": [
    "nreal = 1\n",
    "#we just take the all scenario set for these and then varry the supply limitations\n",
    "demands = [[z,j,i] for i in [-1,-2,-3] for j in [-2,-3,-4] for z in  [-3,-5,-7] ]\n",
    "probs = [z*j*i for i in [0.3,0.4,0.3] for j in [0.3,0.4,0.3] for z in [0.3,0.4,0.3]]\n",
    "cinstall =[10.,7.,16.,6.]   #costs for instalation\n",
    "#costs\n",
    "costsvec= [v*i*p/nreal for p in probs for v in [10,6,1]   for i in [4,4.5,3.2,5.5, 10] ]#add cost of usage\n",
    "cset = cinstall+costsvec*nreal\n",
    "\n",
    "randvals= [0.5]*4\n",
    "mins = [0.6,0.7,0.5,0.9]\n",
    "adds = [0.3,0.1,0.3,0.1] \n",
    "randvals = [randvals[x*4+k]*adds[k]+mins[k]  for x in range(nreal) for k in range(4)]\n",
    "x=cp.Variable(len(cset) )\n",
    "\n",
    "\n",
    "#phase 1 constraints\n",
    "#budget\n",
    "constr = [x>=0]\n",
    "constr = constr+[x[0:4]@cinstall<=120 ]\n",
    "\n",
    "#energy requirement constraint\n",
    "#not a hard constraint anymore but still sensible to have some version of it\n",
    "constr = constr + [x[0:4]@[0.9,0.8,0.8,1.]>= 5]\n",
    "\n",
    "#phase 2 constaints\n",
    "#energy supply\n",
    "base= np.array([0,1,2,3,4]) \n",
    "multidin2 = np.array([1,1,1,1,1])\n",
    "constr = constr + [-x[base+k*5+4]@multidin2<= demands[(k//3)%27][k%3] for k in range(nreal*27*3)]\n",
    "print([0,1,2,3,4][0:4])\n",
    "print(len(cset))\n",
    "print(constr[-1])\n",
    "#capacity\n",
    "base= np.array([4,9,14]) \n",
    "multiding = np.array([1,1,1])\n",
    "constr = constr + [x[k]*randvals[(v//27)*4+k]-x[base+k+v*15]@multiding>=0.  for v in range(27*nreal) for k in range(4)]\n",
    "print(constr[-1])\n",
    "\n",
    "\n",
    "cset = np.array(cset)\n",
    "problem = cp.Problem(cp.Minimize(cset.T @x),constr )\n",
    "t1 = time.time()\n",
    "env = gurobipy.Env()\n",
    "env.setParam('TimeLimit', 100)\n",
    "res= problem.solve(verbose = False, QCPDual = 1, solver  = cp.GUROBI, env=env)\n",
    "\n",
    "    \n",
    "t2 = time.time()\n",
    "print_solution(problem,x)\n",
    "\n",
    "print(f'Time taken in seconds {t2-t1}')\n",
    "\n",
    "avph11= x.value[0:4]"
   ]
  },
  {
   "cell_type": "code",
   "execution_count": null,
   "metadata": {},
   "outputs": [],
   "source": [
    "ntests=1000\n",
    "rndvl= np.random.uniform(size=cases*4*ntests)\n",
    "rndvl = [[rndvl[x*4+k+t*cases*4]*adds[k]+mins[k]  for x in range(cases) for k in range(4)] for t in range(ntests)]\n",
    "print(rndvl)\n",
    "Vtestvec = []\n",
    "#curval =sum([optipars[i]*[10.,7.,16.,6.][i] for i in range(4)]) \n",
    "curval =avph11@[10.,7.,16.,6.]\n",
    "print(curval)\n",
    "q = 0\n",
    "for t in rndvl:\n",
    "    print(q)\n",
    "    rqual.value = t\n",
    "    lilproblem.solve(QCPDual = 1, solver  = cp.GUROBI, env=env )\n",
    "    Vtestvec =Vtestvec+[curval +lilproblem.value] \n",
    "    q=q+1\n",
    "print(np.mean(Vtestvec))\n",
    "print(np.sqrt(np.var(Vtestvec)))"
   ]
  },
  {
   "cell_type": "code",
   "execution_count": null,
   "metadata": {},
   "outputs": [],
   "source": [
    "import scipy\n",
    "import scipy.spatial\n",
    "Tree = scipy.spatial.KDTree(params)\n",
    "print(Tree.query(avph11))\n",
    "print(params[Tree.query(avph11)[1]] )\n",
    "print(valuevector[Tree.query(avph11)[1]])\n",
    "min(valuevector)\n",
    "print(avph11)\n",
    "for k in paramar.columns:\n",
    "    print(k)\n",
    "    print(np.mean(paramar[k]))\n",
    "    print(np.var(paramar[k]))"
   ]
  },
  {
   "cell_type": "markdown",
   "metadata": {},
   "source": [
    "### Perfect Information"
   ]
  },
  {
   "cell_type": "code",
   "execution_count": null,
   "metadata": {},
   "outputs": [],
   "source": [
    "nreal = 1\n",
    "#we just take the all scenario set for these and then varry the supply limitations\n",
    "demands = [[z,j,i] for i in [-1,-2,-3] for j in [-2,-3,-4] for z in  [-3,-5,-7] ]\n",
    "probs = [z*j*i for i in [0.3,0.4,0.3] for j in [0.3,0.4,0.3] for z in [0.3,0.4,0.3]]\n",
    "cinstall =[10.,7.,16.,6.]   #costs for instalation\n",
    "#costs\n",
    "costsvec= [v*i*p/nreal for p in probs for v in [10,6,1]   for i in [4,4.5,3.2,5.5, 10] ]#add cost of usage\n",
    "cset = cinstall+costsvec*nreal\n",
    "\n",
    "randvals= np.random.uniform(size=nreal*4)\n",
    "mins = [0.6,0.7,0.5,0.9]\n",
    "adds = [0.3,0.1,0.3,0.1] \n",
    "randvals = cp.Parameter(shape=nreal*4 ,value= [randvals[x*4+k]*adds[k]+mins[k]  for x in range(nreal) for k in range(4)])\n",
    "x=cp.Variable(len(cset) )\n",
    "\n",
    "\n",
    "#phase 1 constraints\n",
    "#budget\n",
    "constr = [x>=0]\n",
    "constr = constr+[x[0:4]@cinstall<=120 ]\n",
    "\n",
    "#energy requirement constraint\n",
    "#not a hard constraint anymore but still sensible to have some version of it\n",
    "constr = constr + [x[0:4]@[0.9,0.8,0.8,1.]>= 5]\n",
    "\n",
    "#phase 2 constaints\n",
    "#energy supply\n",
    "base= np.array([0,1,2,3,4]) \n",
    "multidin2 = np.array([1,1,1,1,1])\n",
    "constr = constr + [-x[base+k*5+4]@multidin2<= demands[(k//3)%27][k%3] for k in range(nreal*27*3)]\n",
    "print([0,1,2,3,4][0:4])\n",
    "print(len(cset))\n",
    "print(constr[-1])\n",
    "#capacity\n",
    "base= np.array([4,9,14]) \n",
    "multiding = np.array([1,1,1])\n",
    "constr = constr + [x[k]*randvals[(v//27)*4+k]-x[base+k+v*15]@multiding>=0.  for v in range(27*nreal) for k in range(4)]\n",
    "print(constr[-1])\n",
    "\n",
    "cset = np.array(cset)\n",
    "problem = cp.Problem(cp.Minimize(cset.T @x),constr )\n",
    "t1 = time.time()\n",
    "env = gurobipy.Env()\n",
    "env.setParam('TimeLimit', 100)\n",
    "res= problem.solve(verbose = False, QCPDual = 1, solver  = cp.GUROBI, env=env)\n",
    "\n",
    "t2 = time.time()\n",
    "print_solution(problem,x)\n",
    "\n",
    "print(f'Time taken in seconds {t2-t1}')"
   ]
  },
  {
   "cell_type": "code",
   "execution_count": null,
   "metadata": {},
   "outputs": [],
   "source": [
    "params =[]\n",
    "values = []\n",
    "for o in tqdm(range(4000)):\n",
    "    rndvl= np.random.uniform(size=nreal*4)\n",
    "    randvals.value = [rndvl[x*4+k]*adds[k]+mins[k]  for x in range(nreal) for k in range(4)]\n",
    "    res= problem.solve( QCPDual = 1, solver  = cp.GUROBI, env=env)\n",
    "    values = values + [problem.value]\n",
    "    params = params + [x.value[0:4]]"
   ]
  },
  {
   "cell_type": "code",
   "execution_count": null,
   "metadata": {},
   "outputs": [],
   "source": [
    "np.mean(values)"
   ]
  },
  {
   "cell_type": "code",
   "execution_count": null,
   "metadata": {},
   "outputs": [],
   "source": [
    "seaborn.histplot(values)"
   ]
  }
 ],
 "metadata": {
  "kernelspec": {
   "display_name": "venv",
   "language": "python",
   "name": "python3"
  },
  "language_info": {
   "codemirror_mode": {
    "name": "ipython",
    "version": 3
   },
   "file_extension": ".py",
   "mimetype": "text/x-python",
   "name": "python",
   "nbconvert_exporter": "python",
   "pygments_lexer": "ipython3",
   "version": "3.12.3"
  }
 },
 "nbformat": 4,
 "nbformat_minor": 2
}
